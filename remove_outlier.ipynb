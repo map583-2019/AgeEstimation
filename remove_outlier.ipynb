{
 "cells": [
  {
   "cell_type": "code",
   "execution_count": 3,
   "metadata": {},
   "outputs": [],
   "source": [
    "import os\n",
    "from PIL import Image"
   ]
  },
  {
   "cell_type": "code",
   "execution_count": 5,
   "metadata": {},
   "outputs": [],
   "source": [
    "path = './data2/'\n",
    "for subdir in ['wiki_crop_train', 'wiki_crop_val', 'wiki_crop_test']:\n",
    "    for i in range(101):\n",
    "        sub_path = path+subdir+'/'\n",
    "        files = os.listdir(sub_path+str(i))\n",
    "        for file in files:\n",
    "            im = Image.open(sub_path+str(i)+'/'+file)\n",
    "            width, height = im.size\n",
    "            if width < 100 or height < 100:\n",
    "                os.remove(sub_path+str(i)+'/'+file)"
   ]
  },
  {
   "cell_type": "code",
   "execution_count": null,
   "metadata": {},
   "outputs": [],
   "source": []
  }
 ],
 "metadata": {
  "kernelspec": {
   "display_name": "Python 3",
   "language": "python",
   "name": "python3"
  },
  "language_info": {
   "codemirror_mode": {
    "name": "ipython",
    "version": 3
   },
   "file_extension": ".py",
   "mimetype": "text/x-python",
   "name": "python",
   "nbconvert_exporter": "python",
   "pygments_lexer": "ipython3",
   "version": "3.6.8"
  }
 },
 "nbformat": 4,
 "nbformat_minor": 2
}
