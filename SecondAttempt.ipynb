{
 "cells": [
  {
   "cell_type": "code",
   "execution_count": 169,
   "metadata": {},
   "outputs": [],
   "source": [
    "import torchvision\n",
    "import torch\n",
    "from torch.utils.data import DataLoader\n",
    "from torchvision.datasets.folder import ImageFolder\n",
    "from torchvision import transforms\n",
    "from torchvision import models\n",
    "import torch.nn as nn\n",
    "from torch import optim\n",
    "import time\n",
    "\n",
    "batch_size = 32\n",
    "nb_categories = 101\n"
   ]
  },
  {
   "cell_type": "code",
   "execution_count": 170,
   "metadata": {},
   "outputs": [],
   "source": [
    "data_root = '/home/wenjian/data4/'\n",
    "\n",
    "train_set_dir = data_root + 'wiki_crop_train/'\n",
    "val_set_dir = data_root + 'wiki_crop_val/'\n",
    "test_set_dir = data_root + 'wiki_crop_test/'\n",
    "\n",
    "result_dir = '/home/wenjian/results/'"
   ]
  },
  {
   "cell_type": "code",
   "execution_count": 171,
   "metadata": {},
   "outputs": [],
   "source": [
    "train_transform = transforms.Compose([\n",
    "        transforms.RandomResizedCrop(size=256, scale=(0.8, 1.0)),\n",
    "        transforms.RandomRotation(degrees=15),\n",
    "        transforms.ColorJitter(),\n",
    "        transforms.RandomHorizontalFlip(),\n",
    "        transforms.CenterCrop(size=224),  # Image net standards\n",
    "        transforms.ToTensor(),\n",
    "        transforms.Normalize([0.485, 0.456, 0.406],\n",
    "                                [0.229, 0.224, 0.225])]) # Imagenet standards\n",
    "\n",
    "val_transform = transforms.Compose([\n",
    "        transforms.Resize(size=256),\n",
    "        transforms.CenterCrop(size=224),  # Image net standards\n",
    "        transforms.ToTensor(),\n",
    "        transforms.Normalize([0.485, 0.456, 0.406],\n",
    "                                [0.229, 0.224, 0.225])]) # Imagenet standards\n",
    "\n",
    "# What should we do for test??????\n",
    "test_transform = transforms.Compose([\n",
    "        transforms.Resize(size=256),\n",
    "        transforms.CenterCrop(size=224),  # Image net standards\n",
    "        transforms.ToTensor()])\n",
    "\n",
    "train_set = ImageFolder(train_set_dir, transform=train_transform, target_transform=None)\n",
    "train_loader = DataLoader(train_set, batch_size=batch_size, shuffle=True)\n",
    "\n",
    "val_set = ImageFolder(val_set_dir, transform=val_transform, target_transform=None)\n",
    "val_loader = DataLoader(val_set, batch_size=batch_size)\n",
    "\n",
    "test_set = ImageFolder(test_set_dir, transform=test_transform, target_transform=None)\n",
    "test_loader = DataLoader(test_set, batch_size=batch_size)"
   ]
  },
  {
   "cell_type": "code",
   "execution_count": 172,
   "metadata": {},
   "outputs": [],
   "source": [
    "VGGmodel = models.vgg16(pretrained=True)\n",
    "for param in VGGmodel.parameters():\n",
    "    param.requires_grad = False\n",
    "# The original classifier[6]'s input features\n",
    "n_inputs = VGGmodel.classifier[3].out_features\n",
    "# Add on classifier\n",
    "VGGmodel.classifier[6] = nn.Sequential(\n",
    "                      nn.Linear(n_inputs, 512), \n",
    "                      nn.ReLU(), \n",
    "                      nn.Dropout(0.4),\n",
    "                      nn.Linear(512, nb_categories),                   \n",
    "                      nn.Softmax())\n",
    "  "
   ]
  },
  {
   "cell_type": "markdown",
   "metadata": {},
   "source": [
    "Input size of the image 256 256 3"
   ]
  },
  {
   "cell_type": "code",
   "execution_count": 173,
   "metadata": {},
   "outputs": [],
   "source": [
    "class Flatten(nn.Module):\n",
    "    def forward(self, input_tensor):\n",
    "        return input_tensor.view(input_tensor.size(0), -1)"
   ]
  },
  {
   "cell_type": "code",
   "execution_count": 174,
   "metadata": {},
   "outputs": [],
   "source": [
    "class SimpleCNN(nn.Module):\n",
    "    def __init__(self):\n",
    "        super(SimpleCNN, self).__init__()\n",
    "        self.layer1 = nn.Sequential(\n",
    "            nn.Conv2d(3, 128, kernel_size=3, stride=1, padding=1),\n",
    "            nn.BatchNorm2d(128),\n",
    "            nn.ReLU(),\n",
    "            nn.MaxPool2d(kernel_size=4, stride=4))\n",
    "        self.layer2 = nn.Sequential(\n",
    "            nn.Conv2d(128, 256, kernel_size=3, stride=1, padding=1),\n",
    "            nn.BatchNorm2d(256),\n",
    "            nn.ReLU(),\n",
    "            nn.MaxPool2d(kernel_size=4, stride=4))\n",
    "        self.layer3 = nn.Sequential(\n",
    "            nn.Conv2d(256, 1024, kernel_size=3, stride=1, padding=1),\n",
    "            nn.BatchNorm2d(1024),\n",
    "            nn.ReLU(),\n",
    "            nn.MaxPool2d(kernel_size=4, stride=4))\n",
    "        self.layer4 = nn.Sequential(\n",
    "            nn.Conv2d(1024, 1024, kernel_size=3, stride=1, padding=1),\n",
    "            nn.BatchNorm2d(1024),\n",
    "            nn.ReLU(),\n",
    "            nn.MaxPool2d(kernel_size=2, stride=2))\n",
    "        self.layer4 = nn.Sequential(\n",
    "            Flatten(),\n",
    "            nn.Linear(9*1024, 1024),\n",
    "            nn.ReLU(),\n",
    "            nn.Linear(1024, 512),\n",
    "            nn.ReLU(),\n",
    "            nn.Linear(512, 256),\n",
    "            nn.ReLU(),\n",
    "            nn.Linear(256, 101),\n",
    "            nn.Softmax())\n",
    "        \n",
    "    def forward(self, x):\n",
    "        #print('---0---', x.shape)\n",
    "        x = self.layer1(x)\n",
    "        #print('---1---', x.shape)\n",
    "        x = self.layer2(x)\n",
    "        #print('---2---', x.shape)\n",
    "        x = self.layer3(x)\n",
    "        #print('---3---', x.shape)\n",
    "        x = self.layer4(x)\n",
    "        return x"
   ]
  },
  {
   "cell_type": "code",
   "execution_count": 175,
   "metadata": {},
   "outputs": [],
   "source": [
    "model = VGGmodel\n",
    "criterion = nn.KLDivLoss()\n",
    "optimizer = optim.Adam(model.parameters())"
   ]
  },
  {
   "cell_type": "code",
   "execution_count": 176,
   "metadata": {},
   "outputs": [],
   "source": [
    "def linear_shadow(label_batch, gap=0.2, nb_categories=101):\n",
    "    batch_size = label_batch.shape[0]\n",
    "    l = torch.zeros(batch_size, nb_categories, dtype= torch.float)\n",
    "    for i in range(batch_size):\n",
    "        label = torch.tensor(label_batch[i], dtype=torch.float)\n",
    "        for j in range(nb_categories):\n",
    "            l[i,j] = 1- abs(label-j)*gap\n",
    "            if l[i,j]<0:\n",
    "                l[i,j]=0\n",
    "    return l"
   ]
  },
  {
   "cell_type": "code",
   "execution_count": 177,
   "metadata": {},
   "outputs": [],
   "source": [
    "def target_distribution(vectors):\n",
    "    # To normalize the distribution. Shape of the vectors are expected as (batch_size, vector_dim)\n",
    "    # Noted that the softmax function in Pytorch only work for float type tensor\n",
    "    return nn.functional.softmax(vectors, dim=1)"
   ]
  },
  {
   "cell_type": "markdown",
   "metadata": {},
   "source": [
    "https://github.com/pytorch/examples/blob/master/mnist/main.py"
   ]
  },
  {
   "cell_type": "code",
   "execution_count": 178,
   "metadata": {},
   "outputs": [],
   "source": [
    "def train(model, train_loader, criterion, optimizer, epoch):\n",
    "    print('Start training...')\n",
    "    model.train()\n",
    "    log_interval = 10\n",
    "    losses = []\n",
    "    with open(result_dir + 'training_log.txt', 'a') as f: \n",
    "        for batch_idx, (data, labels) in enumerate(train_loader):\n",
    "            optimizer.zero_grad()\n",
    "            out = model(data)\n",
    "            log_proba = torch.log(out)\n",
    "            labels = linear_shadow(labels)\n",
    "            labels = target_distribution(labels) # Normalize the distribution\n",
    "            loss = criterion(log_proba, labels)\n",
    "            losses.append(loss.item())\n",
    "            loss.backward()\n",
    "            optimizer.step()\n",
    "\n",
    "            if batch_idx % log_interval == 0:\n",
    "                print('Train Epoch: {} [{}/{} ({:.0f}%)]\\tLoss: {:.6f}'.format(\n",
    "                    epoch, batch_idx * len(data), len(train_loader.dataset),\n",
    "                    100. * batch_idx / len(train_loader), loss.item()))\n",
    "                f.write('Train Epoch: {} [{}/{} ({:.0f}%)]\\tLoss: {:.6f}'.format(\n",
    "                    epoch, batch_idx * len(data), len(train_loader.dataset),\n",
    "                    100. * batch_idx / len(train_loader), loss.item()))\n",
    "            \n",
    "    return losses"
   ]
  },
  {
   "cell_type": "code",
   "execution_count": 179,
   "metadata": {},
   "outputs": [],
   "source": [
    "def validate(model, val_loader):\n",
    "    print(\"Start validation...\")\n",
    "    model.eval()\n",
    "    test_loss = 0.0\n",
    "    diff = 0.0\n",
    "    with torch.no_grad():\n",
    "        for data, target in test_loader:\n",
    "            out = model(data)\n",
    "            log_proba = torch.log(out)\n",
    "            labels = linear_shadow(target)\n",
    "            labels = target_distribution(labels) # Normalize th distribution\n",
    "            test_loss += criterion(log_proba, labels)\n",
    "            preds = out.argmax(dim=1, keepdim=True)\n",
    "            diff += nn.functional.l1_loss(preds.float(), target.float()) #nn.functional.l1_loss output the average l1 distance by default\n",
    "            \n",
    "    test_loss /= len(test_loader.dataset)\n",
    "    diff /= len(test_loader.dataset)\n",
    "    print('\\nTest set: Average loss: {:.4f}, diff: {}\\n'.format(test_loss, diff))\n",
    "    with open(result_dir + 'validation_log.txt', 'a') as f:\n",
    "        f.write('\\nTest set: Average loss: {:.4f}, diff: {}\\n'.format(test_loss, diff))\n",
    "    return test_loss, diff\n"
   ]
  },
  {
   "cell_type": "code",
   "execution_count": null,
   "metadata": {},
   "outputs": [
    {
     "name": "stdout",
     "output_type": "stream",
     "text": [
      "0 th epoch started...\n",
      "Start training...\n"
     ]
    },
    {
     "name": "stderr",
     "output_type": "stream",
     "text": [
      "/home/wenjian/miniconda3/lib/python3.6/site-packages/ipykernel_launcher.py:5: UserWarning: To copy construct from a tensor, it is recommended to use sourceTensor.clone().detach() or sourceTensor.clone().detach().requires_grad_(True), rather than torch.tensor(sourceTensor).\n",
      "  \"\"\"\n",
      "/home/wenjian/miniconda3/lib/python3.6/site-packages/torch/nn/functional.py:1906: UserWarning: reduction: 'mean' divides the total loss by both the batch size and the support size.'batchmean' divides only by the batch size, and aligns with the KL div math definition.'mean' will be changed to behave the same as 'batchmean' in the next major release.\n",
      "  warnings.warn(\"reduction: 'mean' divides the total loss by both the batch size and the support size.\"\n"
     ]
    },
    {
     "name": "stdout",
     "output_type": "stream",
     "text": [
      "Train Epoch: 0 [0/4138 (0%)]\tLoss: 0.000490\n",
      "Train Epoch: 0 [320/4138 (8%)]\tLoss: 0.000249\n",
      "Train Epoch: 0 [640/4138 (15%)]\tLoss: 0.000248\n",
      "Train Epoch: 0 [960/4138 (23%)]\tLoss: 0.000245\n",
      "Train Epoch: 0 [2560/4138 (62%)]\tLoss: 0.000242\n",
      "Train Epoch: 0 [2880/4138 (69%)]\tLoss: 0.000238\n",
      "Train Epoch: 0 [3200/4138 (77%)]\tLoss: 0.000247\n",
      "Train Epoch: 0 [3520/4138 (85%)]\tLoss: 0.000240\n",
      "Train Epoch: 0 [3840/4138 (92%)]\tLoss: 0.000239\n",
      "Start validation...\n",
      "\n",
      "Test set: Average loss: 0.0000, diff: 0.8021881580352783\n",
      "\n",
      "0 th epoch time:  513.2470374107361\n",
      "1 th epoch started...\n",
      "Start training...\n",
      "Train Epoch: 1 [0/4138 (0%)]\tLoss: 0.000239\n",
      "Train Epoch: 1 [320/4138 (8%)]\tLoss: 0.000238\n",
      "Train Epoch: 1 [640/4138 (15%)]\tLoss: 0.000234\n",
      "Train Epoch: 1 [960/4138 (23%)]\tLoss: 0.000240\n",
      "Train Epoch: 1 [1280/4138 (31%)]\tLoss: 0.000238\n",
      "Train Epoch: 1 [1600/4138 (38%)]\tLoss: 0.000242\n",
      "Train Epoch: 1 [1920/4138 (46%)]\tLoss: 0.000236\n",
      "Train Epoch: 1 [2240/4138 (54%)]\tLoss: 0.000245\n",
      "Train Epoch: 1 [2560/4138 (62%)]\tLoss: 0.000244\n",
      "Train Epoch: 1 [2880/4138 (69%)]\tLoss: 0.000238\n",
      "Train Epoch: 1 [3200/4138 (77%)]\tLoss: 0.000236\n",
      "Train Epoch: 1 [3520/4138 (85%)]\tLoss: 0.000240\n",
      "Train Epoch: 1 [3840/4138 (92%)]\tLoss: 0.000236\n",
      "Start validation...\n",
      "\n",
      "Test set: Average loss: 0.0000, diff: 0.6616062521934509\n",
      "\n",
      "1 th epoch time:  507.07794880867004\n",
      "2 th epoch started...\n",
      "Start training...\n",
      "Train Epoch: 2 [0/4138 (0%)]\tLoss: 0.000243\n",
      "Train Epoch: 2 [320/4138 (8%)]\tLoss: 0.000237\n",
      "Train Epoch: 2 [640/4138 (15%)]\tLoss: 0.000231\n",
      "Train Epoch: 2 [960/4138 (23%)]\tLoss: 0.000233\n",
      "Train Epoch: 2 [1280/4138 (31%)]\tLoss: 0.000240\n",
      "Train Epoch: 2 [1600/4138 (38%)]\tLoss: 0.000235\n",
      "Train Epoch: 2 [1920/4138 (46%)]\tLoss: 0.000242\n"
     ]
    }
   ],
   "source": [
    "import numpy as np\n",
    "\n",
    "\n",
    "n_epochs = 20\n",
    "train_losses_all = []\n",
    "val_loss_all = []\n",
    "val_diff_all = []\n",
    "for epoch in range(n_epochs):\n",
    "    print(epoch,'th epoch started...')\n",
    "    epoch_start = time.time()\n",
    "    train_losses = train(model, train_loader, criterion, optimizer, epoch)\n",
    "    train_losses_all.append(train_losses)\n",
    "    val_loss, diff = validate(model, val_loader)\n",
    "    val_loss_all.append(val_loss)\n",
    "    val_diff_all.append(diff)\n",
    "    torch.save(model.state_dict(),\"model_trained_\" + str(epoch) + \".pt\")\n",
    "\n",
    "    train_loss_array = np.array(train_losses_all)\n",
    "    val_loss_array = np.array(val_loss_all)\n",
    "    val_diff_array = np.array(val_diff_all)\n",
    "\n",
    "    np.save(result_dir + 'train_loss_array.npy', train_loss_array)\n",
    "    np.save(result_dir + 'val_loss_array.npy', val_loss_array)\n",
    "    np.save(result_dir + 'val_diff_array.npy', val_diff_array)\n",
    "    \n",
    "    epoch_end = time.time()\n",
    "    epoch_time = epoch_end - epoch_start\n",
    "    print(epoch, 'th epoch time: ', epoch_time)"
   ]
  },
  {
   "cell_type": "code",
   "execution_count": 154,
   "metadata": {},
   "outputs": [],
   "source": [
    "from PIL import Image"
   ]
  },
  {
   "cell_type": "code",
   "execution_count": 157,
   "metadata": {},
   "outputs": [],
   "source": [
    "def predict(model, img_name):\n",
    "    img = Image.open(img_name)\n",
    "    img = torchvision.transforms.functional.to_tensor(img)\n",
    "    img = torchvision.transforms.functional.to_pil_image(img)\n",
    "    img = torchvision.transforms.functional.resize(img, 256)\n",
    "    five_imgs = torchvision.transforms.functional.five_crop(img, size=224)\n",
    "    img = five_imgs[4] # Center crop\n",
    "    img = torchvision.transforms.functional.to_tensor(img)\n",
    "    #print('---aaa---', img.shape)\n",
    "    batch_img = img.view(1, *(img.shape))\n",
    "    #print('---bbb---', batch_img.shape)\n",
    "    with torch.no_grad():\n",
    "        out = model(batch_img)\n",
    "        print(out)\n",
    "        pred = out.argmax()\n",
    "        print(pred)"
   ]
  },
  {
   "cell_type": "code",
   "execution_count": 155,
   "metadata": {},
   "outputs": [
    {
     "data": {
      "image/jpeg": "[encoded data removed]",
      "text/plain": [
       "<IPython.core.display.Image object>"
      ]
     },
     "execution_count": 155,
     "metadata": {},
     "output_type": "execute_result"
    }
   ],
   "source": [
    "from IPython.display import Image as IPyImage\n",
    "img_name = '/home/wenjian/data3/wiki_crop_test/48/10648596_1962-08-25_2010.jpg'\n",
    "IPyImage(filename=img_name)"
   ]
  },
  {
   "cell_type": "code",
   "execution_count": 146,
   "metadata": {},
   "outputs": [],
   "source": [
    "\n"
   ]
  },
  {
   "cell_type": "code",
   "execution_count": 158,
   "metadata": {},
   "outputs": [
    {
     "name": "stdout",
     "output_type": "stream",
     "text": [
      "tensor([[0.0095, 0.0096, 0.0098, 0.0099, 0.0099, 0.0099, 0.0099, 0.0098, 0.0096,\n",
      "         0.0096, 0.0095, 0.0095, 0.0095, 0.0095, 0.0096, 0.0097, 0.0097, 0.0097,\n",
      "         0.0096, 0.0097, 0.0096, 0.0097, 0.0096, 0.0096, 0.0096, 0.0096, 0.0097,\n",
      "         0.0097, 0.0097, 0.0097, 0.0097, 0.0098, 0.0097, 0.0097, 0.0096, 0.0095,\n",
      "         0.0095, 0.0095, 0.0096, 0.0095, 0.0096, 0.0096, 0.0096, 0.0096, 0.0097,\n",
      "         0.0098, 0.0098, 0.0098, 0.0097, 0.0097, 0.0097, 0.0098, 0.0097, 0.0098,\n",
      "         0.0098, 0.0097, 0.0098, 0.0097, 0.0098, 0.0099, 0.0100, 0.0101, 0.0100,\n",
      "         0.0102, 0.0101, 0.0101, 0.0101, 0.0102, 0.0100, 0.0101, 0.0101, 0.0102,\n",
      "         0.0103, 0.0103, 0.0103, 0.0105, 0.0105, 0.0105, 0.0103, 0.0104, 0.0104,\n",
      "         0.0104, 0.0105, 0.0106, 0.0108, 0.0107, 0.0107, 0.0106, 0.0106, 0.0105,\n",
      "         0.0103, 0.0103, 0.0102, 0.0102, 0.0101, 0.0100, 0.0098, 0.0097, 0.0096,\n",
      "         0.0095, 0.0094]])\n",
      "tensor(84)\n"
     ]
    }
   ],
   "source": [
    "predict(model, img_name)"
   ]
  },
  {
   "cell_type": "code",
   "execution_count": null,
   "metadata": {},
   "outputs": [],
   "source": []
  },
  {
   "cell_type": "code",
   "execution_count": null,
   "metadata": {},
   "outputs": [],
   "source": []
  },
  {
   "cell_type": "code",
   "execution_count": null,
   "metadata": {},
   "outputs": [],
   "source": []
  },
  {
   "cell_type": "code",
   "execution_count": 120,
   "metadata": {},
   "outputs": [],
   "source": [
    "import matplotlib.pyplot as plt"
   ]
  },
  {
   "cell_type": "code",
   "execution_count": null,
   "metadata": {},
   "outputs": [],
   "source": []
  },
  {
   "cell_type": "code",
   "execution_count": null,
   "metadata": {},
   "outputs": [],
   "source": []
  },
  {
   "cell_type": "code",
   "execution_count": 45,
   "metadata": {},
   "outputs": [],
   "source": [
    "a = torch.tensor([1,2,3])\n",
    "b = torch.tensor([1.1, 2.5, 3.3])"
   ]
  },
  {
   "cell_type": "code",
   "execution_count": 46,
   "metadata": {},
   "outputs": [
    {
     "data": {
      "text/plain": [
       "tensor(0.3000)"
      ]
     },
     "execution_count": 46,
     "metadata": {},
     "output_type": "execute_result"
    }
   ],
   "source": [
    "nn.functional.l1_loss(a.float() ,b)"
   ]
  },
  {
   "cell_type": "code",
   "execution_count": null,
   "metadata": {},
   "outputs": [],
   "source": []
  }
 ],
 "metadata": {
  "kernelspec": {
   "display_name": "Python 3",
   "language": "python",
   "name": "python3"
  },
  "language_info": {
   "codemirror_mode": {
    "name": "ipython",
    "version": 3
   },
   "file_extension": ".py",
   "mimetype": "text/x-python",
   "name": "python",
   "nbconvert_exporter": "python",
   "pygments_lexer": "ipython3",
   "version": "3.6.8"
  }
 },
 "nbformat": 4,
 "nbformat_minor": 2
}
