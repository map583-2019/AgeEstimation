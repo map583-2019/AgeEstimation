{
 "cells": [
  {
   "cell_type": "markdown",
   "metadata": {},
   "source": [
    "# Age Estimation on IMDB-WIKI Dataset"
   ]
  },
  {
   "cell_type": "code",
   "execution_count": null,
   "metadata": {},
   "outputs": [],
   "source": []
  },
  {
   "cell_type": "code",
   "execution_count": 192,
   "metadata": {},
   "outputs": [],
   "source": [
    "import torchvision\n",
    "import torch\n",
    "from torch.utils.data import DataLoader\n",
    "from torchvision.datasets.folder import ImageFolder\n",
    "from torchvision import transforms\n",
    "from torchvision import models\n",
    "import torch.nn as nn\n",
    "from torch import optim\n",
    "import time\n",
    "\n",
    "from utils.img_to_vec import Img2Vec\n",
    "import os\n",
    "\n",
    "batch_size = 32\n",
    "nb_categories = 101\n",
    "\n"
   ]
  },
  {
   "cell_type": "code",
   "execution_count": 84,
   "metadata": {},
   "outputs": [],
   "source": [
    "AZURE_MACHINE = False\n",
    "COLAB_MACHINE = False\n",
    "LOCAL_MACHINE = True\n",
    "\n",
    "if LOCAL_MACHINE:\n",
    "    data_root = '/home/dongwenjian/Jupyter/DeepLearningWithPyTorch/projet/data5/'\n",
    "\n",
    "    train_set_dir = data_root + 'wiki_crop_train/'\n",
    "    val_set_dir = data_root + 'wiki_crop_val/'\n",
    "    test_set_dir = data_root + 'wiki_crop_test/'\n",
    "\n",
    "    result_dir = '/home/dongwenjian/Jupyter/DeepLearningWithPyTorch/projet/results/'\n",
    "    \n",
    "if AZURE_MACHINE:\n",
    "    data_root = '/home/wenjian/data5/'\n",
    "\n",
    "    train_set_dir = data_root + 'wiki_crop_train/'\n",
    "    val_set_dir = data_root + 'wiki_crop_val/'\n",
    "    test_set_dir = data_root + 'wiki_crop_test/'\n",
    "\n",
    "    result_dir = '/home/wenjian/results/'\n",
    "    \n",
    "if COLAB_MACHINE:\n",
    "    pass"
   ]
  },
  {
   "cell_type": "markdown",
   "metadata": {},
   "source": [
    "Data preparation and augmentation for the network"
   ]
  },
  {
   "cell_type": "code",
   "execution_count": 224,
   "metadata": {},
   "outputs": [],
   "source": [
    "def get_features(pil_image):\n",
    "    fe = Img2Vec(cuda=False)  # change this if you use Cuda version of the PyTorch.\n",
    "    #img = Image.open(image_path)\n",
    "    \n",
    "    # The model could only handle 3-channel images, so we convert 1-channel image to 3-channel image\n",
    "    channels = pil_image.split()\n",
    "    if len(channels) == 1:\n",
    "        pil_image = Image.merge('RGB', (channels[0], channels[0], channels[0]))\n",
    "    pil_image = pil_image.resize((224, 224))\n",
    "    features = fe.get_vec(pil_image).reshape(1, -1)\n",
    "    return features.squeeze()"
   ]
  },
  {
   "cell_type": "code",
   "execution_count": 225,
   "metadata": {},
   "outputs": [],
   "source": [
    "train_transform = transforms.Compose([\n",
    "    transforms.RandomResizedCrop(size=256, scale=(0.8, 1.0)),\n",
    "    transforms.RandomRotation(degrees=15),\n",
    "    transforms.ColorJitter(),\n",
    "    transforms.RandomHorizontalFlip(),\n",
    "    transforms.CenterCrop(size=224),  # Image net standards\n",
    "    transforms.Lambda(lambda image: get_features(image)),\n",
    "    #transforms.ToTensor(),\n",
    "    #transforms.Normalize([0.485, 0.456, 0.406], [0.229, 0.224, 0.225])\n",
    "    ]) # Imagenet standards\n",
    "\n",
    "val_transform = transforms.Compose([\n",
    "    transforms.Resize(size=256),\n",
    "    transforms.CenterCrop(size=224),  # Image net standards\n",
    "    transforms.Lambda(lambda image: get_features(image)),\n",
    "    #transforms.ToTensor(),\n",
    "    #transforms.Normalize([0.485, 0.456, 0.406],[0.229, 0.224, 0.225])\n",
    "    ]) # Imagenet standards\n",
    "\n",
    "# What should we do for test??????\n",
    "test_transform = transforms.Compose([\n",
    "    transforms.Resize(size=256),\n",
    "    transforms.CenterCrop(size=224),  # Image net standards\n",
    "    transforms.ToTensor()])\n",
    "\n"
   ]
  },
  {
   "cell_type": "markdown",
   "metadata": {},
   "source": [
    "Set up data loaders"
   ]
  },
  {
   "cell_type": "code",
   "execution_count": 163,
   "metadata": {},
   "outputs": [],
   "source": [
    "train_set = ImageFolder(train_set_dir, transform=train_transform, target_transform=None)\n",
    "train_loader = DataLoader(train_set, batch_size=batch_size, shuffle=True)\n",
    "\n",
    "val_set = ImageFolder(val_set_dir, transform=val_transform, target_transform=None)\n",
    "val_loader = DataLoader(val_set, batch_size=batch_size)\n",
    "\n",
    "test_set = ImageFolder(test_set_dir, transform=test_transform, target_transform=None)\n",
    "test_loader = DataLoader(test_set, batch_size=batch_size)"
   ]
  },
  {
   "cell_type": "markdown",
   "metadata": {},
   "source": [
    "Input size of the image 224\\*224\\* 3"
   ]
  },
  {
   "cell_type": "code",
   "execution_count": 164,
   "metadata": {},
   "outputs": [],
   "source": [
    "class twoHiddenNet(nn.Module):\n",
    "\n",
    "    def __init__(self, input_unit_size=512, hidden_layer1_size=256, hidden_layer2_size=128, output_layer_size=1):\n",
    "        super(twoHiddenNet, self).__init__()\n",
    "        self.layer1    = nn.Linear(input_unit_size, hidden_layer1_size)\n",
    "        nn.init.xavier_uniform(self.layer1.weight)\n",
    "\n",
    "        self.layer2    = nn.Linear(hidden_layer1_size, hidden_layer2_size)\n",
    "        nn.init.xavier_uniform(self.layer2.weight)\n",
    "\n",
    "        self.layer3    = nn.Linear(hidden_layer2_size, output_layer_size)\n",
    "        nn.init.xavier_uniform(self.layer3.weight)\n",
    "\n",
    "\n",
    "    def forward(self, x):\n",
    "        x = nn.functional.relu(self.layer1(x))\n",
    "        x = nn.functional.relu(self.layer2(x))\n",
    "        x = self.layer3(x)\n",
    "        return x"
   ]
  },
  {
   "cell_type": "markdown",
   "metadata": {},
   "source": [
    "The custom cross entropy loss for smoothed target"
   ]
  },
  {
   "cell_type": "markdown",
   "metadata": {},
   "source": [
    "Choose the model as well as curresponding loss function and optimizer"
   ]
  },
  {
   "cell_type": "code",
   "execution_count": 165,
   "metadata": {},
   "outputs": [
    {
     "name": "stderr",
     "output_type": "stream",
     "text": [
      "/home/dongwenjian/anaconda3/lib/python3.6/site-packages/ipykernel_launcher.py:6: UserWarning: nn.init.xavier_uniform is now deprecated in favor of nn.init.xavier_uniform_.\n",
      "  \n",
      "/home/dongwenjian/anaconda3/lib/python3.6/site-packages/ipykernel_launcher.py:9: UserWarning: nn.init.xavier_uniform is now deprecated in favor of nn.init.xavier_uniform_.\n",
      "  if __name__ == '__main__':\n",
      "/home/dongwenjian/anaconda3/lib/python3.6/site-packages/ipykernel_launcher.py:12: UserWarning: nn.init.xavier_uniform is now deprecated in favor of nn.init.xavier_uniform_.\n",
      "  if sys.path[0] == '':\n"
     ]
    }
   ],
   "source": [
    "model = twoHiddenNet(input_unit_size = 512,\n",
    "                             hidden_layer1_size = 256,\n",
    "                             hidden_layer2_size = 128,\n",
    "                             output_layer_size  = 1\n",
    "                             )\n",
    "LR = 1e-4\n",
    "REG = 1e-4\n",
    "criterion = torch.nn.MSELoss()\n",
    "optimizer = torch.optim.RMSprop( model.parameters(), lr=LR, weight_decay=REG)"
   ]
  },
  {
   "cell_type": "code",
   "execution_count": 166,
   "metadata": {},
   "outputs": [],
   "source": [
    "def train(model, train_loader, criterion, optimizer, epoch):\n",
    "    print('Start training...')\n",
    "    model.train()\n",
    "    log_interval = 10\n",
    "    losses = []\n",
    "    with open(result_dir + 'training_log.txt', 'a') as f: \n",
    "        for batch_idx, (data, labels) in enumerate(train_loader):\n",
    "            #data = data.squeeze()\n",
    "            #print('data.shape', data.shape)\n",
    "            #print('label.shape', labels.shape)\n",
    "            optimizer.zero_grad()\n",
    "            out = model(data)\n",
    "            loss = criterion(out, labels.float())\n",
    "            losses.append(loss.item())\n",
    "            loss.backward()\n",
    "            optimizer.step()\n",
    "\n",
    "            if batch_idx % log_interval == 0:\n",
    "                print('Train Epoch: {} [{}/{} ({:.0f}%)]\\tLoss: {:.6f}'.format(\n",
    "                    epoch, batch_idx * len(data), len(train_loader.dataset),\n",
    "                    100. * batch_idx / len(train_loader), loss.item()))\n",
    "                f.write('Train Epoch: {} [{}/{} ({:.0f}%)]\\tLoss: {:.6f}'.format(\n",
    "                    epoch, batch_idx * len(data), len(train_loader.dataset),\n",
    "                    100. * batch_idx / len(train_loader), loss.item()))\n",
    "            \n",
    "    return losses"
   ]
  },
  {
   "cell_type": "code",
   "execution_count": 167,
   "metadata": {},
   "outputs": [],
   "source": [
    "def validate(model, val_loader):\n",
    "    print(\"Start validation...\")\n",
    "    model.eval()\n",
    "    test_loss = 0.0\n",
    "    diff = 0.0\n",
    "    print('---val_loader size--- ', len(val_loader.dataset))\n",
    "    with torch.no_grad():\n",
    "        for data, target in val_loader:            \n",
    "            out = model(data)\n",
    "            test_loss += criterion(out, target.float()).item()\n",
    "            diff += nn.functional.l1_loss(out.float(), target.float(), size_average=True) #nn.functional.l1_loss output the average l1 distance by default\n",
    "            \n",
    "    test_loss /= len(val_loader.dataset)\n",
    "    diff /= len(val_loader.dataset)\n",
    "    print('\\nValidation set: Average loss: {:.4f}, average diff: {}\\n'.format(test_loss, diff))\n",
    "    with open(result_dir + 'validation_log.txt', 'a') as f:\n",
    "        f.write('\\nValidation set: Average loss: {:.4f}, average diff: {}\\n'.format(test_loss, diff))\n",
    "    return test_loss, diff\n"
   ]
  },
  {
   "cell_type": "code",
   "execution_count": 168,
   "metadata": {
    "scrolled": true
   },
   "outputs": [
    {
     "name": "stdout",
     "output_type": "stream",
     "text": [
      "0 th epoch started...\n",
      "Start training...\n"
     ]
    },
    {
     "name": "stderr",
     "output_type": "stream",
     "text": [
      "/home/dongwenjian/anaconda3/lib/python3.6/site-packages/torchvision/transforms/transforms.py:188: UserWarning: The use of the transforms.Scale transform is deprecated, please use transforms.Resize instead.\n",
      "  \"please use transforms.Resize instead.\")\n"
     ]
    },
    {
     "name": "stdout",
     "output_type": "stream",
     "text": [
      "Train Epoch: 0 [0/4138 (0%)]\tLoss: 3769.248779\n",
      "Train Epoch: 0 [320/4138 (8%)]\tLoss: 1519.233643\n",
      "Train Epoch: 0 [640/4138 (15%)]\tLoss: 664.196106\n",
      "Train Epoch: 0 [960/4138 (23%)]\tLoss: 829.726196\n",
      "Train Epoch: 0 [1280/4138 (31%)]\tLoss: 677.768860\n",
      "Train Epoch: 0 [1600/4138 (38%)]\tLoss: 717.591980\n",
      "Train Epoch: 0 [1920/4138 (46%)]\tLoss: 821.677429\n",
      "Train Epoch: 0 [2240/4138 (54%)]\tLoss: 676.848206\n",
      "Train Epoch: 0 [2560/4138 (62%)]\tLoss: 612.802917\n",
      "Train Epoch: 0 [2880/4138 (69%)]\tLoss: 797.247681\n",
      "Train Epoch: 0 [3200/4138 (77%)]\tLoss: 735.028381\n",
      "Train Epoch: 0 [3520/4138 (85%)]\tLoss: 662.728149\n",
      "Train Epoch: 0 [3840/4138 (92%)]\tLoss: 640.835754\n",
      "Start validation...\n",
      "---val_loader size---  719\n"
     ]
    },
    {
     "name": "stderr",
     "output_type": "stream",
     "text": [
      "/home/dongwenjian/anaconda3/lib/python3.6/site-packages/torch/nn/_reduction.py:49: UserWarning: size_average and reduce args will be deprecated, please use reduction='mean' instead.\n",
      "  warnings.warn(warning.format(ret))\n"
     ]
    },
    {
     "name": "stdout",
     "output_type": "stream",
     "text": [
      "\n",
      "Validation set: Average loss: 21.0817, average diff: 0.6979995965957642\n",
      "\n",
      "0 th epoch time:  1883.4523680210114\n",
      "1 th epoch started...\n",
      "Start training...\n",
      "Train Epoch: 1 [0/4138 (0%)]\tLoss: 568.108093\n",
      "Train Epoch: 1 [320/4138 (8%)]\tLoss: 894.224976\n",
      "Train Epoch: 1 [640/4138 (15%)]\tLoss: 668.568237\n",
      "Train Epoch: 1 [960/4138 (23%)]\tLoss: 721.146851\n",
      "Train Epoch: 1 [1280/4138 (31%)]\tLoss: 788.844055\n",
      "Train Epoch: 1 [1600/4138 (38%)]\tLoss: 538.526917\n",
      "Train Epoch: 1 [1920/4138 (46%)]\tLoss: 708.302673\n",
      "Train Epoch: 1 [2240/4138 (54%)]\tLoss: 922.394348\n",
      "Train Epoch: 1 [2560/4138 (62%)]\tLoss: 527.447327\n",
      "Train Epoch: 1 [2880/4138 (69%)]\tLoss: 931.266418\n",
      "Train Epoch: 1 [3200/4138 (77%)]\tLoss: 658.261169\n",
      "Train Epoch: 1 [3520/4138 (85%)]\tLoss: 768.681152\n",
      "Train Epoch: 1 [3840/4138 (92%)]\tLoss: 787.833801\n",
      "Start validation...\n",
      "---val_loader size---  719\n",
      "\n",
      "Validation set: Average loss: 20.2674, average diff: 0.684137225151062\n",
      "\n",
      "1 th epoch time:  1880.8991136550903\n",
      "2 th epoch started...\n",
      "Start training...\n",
      "Train Epoch: 2 [0/4138 (0%)]\tLoss: 725.806396\n",
      "Train Epoch: 2 [320/4138 (8%)]\tLoss: 546.346252\n",
      "Train Epoch: 2 [640/4138 (15%)]\tLoss: 782.432861\n",
      "Train Epoch: 2 [960/4138 (23%)]\tLoss: 678.706909\n",
      "Train Epoch: 2 [1280/4138 (31%)]\tLoss: 572.456299\n",
      "Train Epoch: 2 [1600/4138 (38%)]\tLoss: 730.548828\n",
      "Train Epoch: 2 [1920/4138 (46%)]\tLoss: 679.726868\n",
      "Train Epoch: 2 [2240/4138 (54%)]\tLoss: 784.335693\n",
      "Train Epoch: 2 [2560/4138 (62%)]\tLoss: 646.781555\n",
      "Train Epoch: 2 [2880/4138 (69%)]\tLoss: 840.367676\n",
      "Train Epoch: 2 [3200/4138 (77%)]\tLoss: 519.213806\n",
      "Train Epoch: 2 [3520/4138 (85%)]\tLoss: 767.708679\n",
      "Train Epoch: 2 [3840/4138 (92%)]\tLoss: 667.517578\n",
      "Start validation...\n",
      "---val_loader size---  719\n",
      "\n",
      "Validation set: Average loss: 19.9390, average diff: 0.6815276145935059\n",
      "\n",
      "2 th epoch time:  1857.6334636211395\n",
      "3 th epoch started...\n",
      "Start training...\n",
      "Train Epoch: 3 [0/4138 (0%)]\tLoss: 629.596069\n",
      "Train Epoch: 3 [320/4138 (8%)]\tLoss: 692.957886\n",
      "Train Epoch: 3 [640/4138 (15%)]\tLoss: 693.433838\n",
      "Train Epoch: 3 [960/4138 (23%)]\tLoss: 868.858948\n",
      "Train Epoch: 3 [1280/4138 (31%)]\tLoss: 782.288513\n",
      "Train Epoch: 3 [1600/4138 (38%)]\tLoss: 851.925781\n",
      "Train Epoch: 3 [1920/4138 (46%)]\tLoss: 802.203735\n",
      "Train Epoch: 3 [2240/4138 (54%)]\tLoss: 711.628723\n",
      "Train Epoch: 3 [2560/4138 (62%)]\tLoss: 704.723877\n",
      "Train Epoch: 3 [2880/4138 (69%)]\tLoss: 832.247498\n",
      "Train Epoch: 3 [3200/4138 (77%)]\tLoss: 569.031433\n",
      "Train Epoch: 3 [3520/4138 (85%)]\tLoss: 686.947937\n",
      "Train Epoch: 3 [3840/4138 (92%)]\tLoss: 883.715088\n",
      "Start validation...\n",
      "---val_loader size---  719\n",
      "\n",
      "Validation set: Average loss: 19.9102, average diff: 0.6819421052932739\n",
      "\n",
      "3 th epoch time:  1783.5325224399567\n",
      "4 th epoch started...\n",
      "Start training...\n",
      "Train Epoch: 4 [0/4138 (0%)]\tLoss: 727.094971\n",
      "Train Epoch: 4 [320/4138 (8%)]\tLoss: 730.205811\n",
      "Train Epoch: 4 [640/4138 (15%)]\tLoss: 673.018188\n",
      "Train Epoch: 4 [960/4138 (23%)]\tLoss: 707.844177\n",
      "Train Epoch: 4 [1280/4138 (31%)]\tLoss: 852.542725\n",
      "Train Epoch: 4 [1600/4138 (38%)]\tLoss: 726.286926\n",
      "Train Epoch: 4 [1920/4138 (46%)]\tLoss: 667.709229\n",
      "Train Epoch: 4 [2240/4138 (54%)]\tLoss: 972.352844\n",
      "Train Epoch: 4 [2560/4138 (62%)]\tLoss: 914.564636\n",
      "Train Epoch: 4 [2880/4138 (69%)]\tLoss: 842.441772\n",
      "Train Epoch: 4 [3200/4138 (77%)]\tLoss: 452.565643\n",
      "Train Epoch: 4 [3520/4138 (85%)]\tLoss: 537.383728\n",
      "Train Epoch: 4 [3840/4138 (92%)]\tLoss: 757.655701\n",
      "Start validation...\n",
      "---val_loader size---  719\n",
      "\n",
      "Validation set: Average loss: 19.6570, average diff: 0.676033079624176\n",
      "\n",
      "4 th epoch time:  1753.5604033470154\n",
      "5 th epoch started...\n",
      "Start training...\n",
      "Train Epoch: 5 [0/4138 (0%)]\tLoss: 657.527222\n",
      "Train Epoch: 5 [320/4138 (8%)]\tLoss: 696.301941\n",
      "Train Epoch: 5 [640/4138 (15%)]\tLoss: 590.019897\n",
      "Train Epoch: 5 [960/4138 (23%)]\tLoss: 703.365662\n",
      "Train Epoch: 5 [1280/4138 (31%)]\tLoss: 515.056824\n",
      "Train Epoch: 5 [1600/4138 (38%)]\tLoss: 766.576416\n",
      "Train Epoch: 5 [1920/4138 (46%)]\tLoss: 583.182068\n",
      "Train Epoch: 5 [2240/4138 (54%)]\tLoss: 791.894348\n",
      "Train Epoch: 5 [2560/4138 (62%)]\tLoss: 495.988312\n",
      "Train Epoch: 5 [2880/4138 (69%)]\tLoss: 745.406006\n",
      "Train Epoch: 5 [3200/4138 (77%)]\tLoss: 587.798828\n",
      "Train Epoch: 5 [3520/4138 (85%)]\tLoss: 554.003357\n",
      "Train Epoch: 5 [3840/4138 (92%)]\tLoss: 890.057678\n",
      "Start validation...\n",
      "---val_loader size---  719\n",
      "\n",
      "Validation set: Average loss: 19.6103, average diff: 0.6766530871391296\n",
      "\n",
      "5 th epoch time:  1675.3107433319092\n",
      "6 th epoch started...\n",
      "Start training...\n",
      "Train Epoch: 6 [0/4138 (0%)]\tLoss: 774.652283\n",
      "Train Epoch: 6 [320/4138 (8%)]\tLoss: 621.933044\n",
      "Train Epoch: 6 [640/4138 (15%)]\tLoss: 867.924194\n",
      "Train Epoch: 6 [960/4138 (23%)]\tLoss: 703.347839\n",
      "Train Epoch: 6 [1280/4138 (31%)]\tLoss: 643.259094\n",
      "Train Epoch: 6 [1600/4138 (38%)]\tLoss: 741.050842\n",
      "Train Epoch: 6 [1920/4138 (46%)]\tLoss: 888.018555\n",
      "Train Epoch: 6 [2240/4138 (54%)]\tLoss: 620.376099\n",
      "Train Epoch: 6 [2560/4138 (62%)]\tLoss: 797.081116\n",
      "Train Epoch: 6 [2880/4138 (69%)]\tLoss: 651.823669\n",
      "Train Epoch: 6 [3200/4138 (77%)]\tLoss: 620.564697\n",
      "Train Epoch: 6 [3520/4138 (85%)]\tLoss: 802.975403\n",
      "Train Epoch: 6 [3840/4138 (92%)]\tLoss: 722.379517\n",
      "Start validation...\n",
      "---val_loader size---  719\n",
      "\n",
      "Validation set: Average loss: 19.5695, average diff: 0.6754475235939026\n",
      "\n",
      "6 th epoch time:  1697.8912842273712\n",
      "7 th epoch started...\n",
      "Start training...\n",
      "Train Epoch: 7 [0/4138 (0%)]\tLoss: 770.415222\n",
      "Train Epoch: 7 [320/4138 (8%)]\tLoss: 834.454346\n",
      "Train Epoch: 7 [640/4138 (15%)]\tLoss: 665.855164\n",
      "Train Epoch: 7 [960/4138 (23%)]\tLoss: 676.419189\n",
      "Train Epoch: 7 [1280/4138 (31%)]\tLoss: 737.984924\n",
      "Train Epoch: 7 [1600/4138 (38%)]\tLoss: 805.236938\n",
      "Train Epoch: 7 [1920/4138 (46%)]\tLoss: 822.284058\n",
      "Train Epoch: 7 [2240/4138 (54%)]\tLoss: 688.356689\n",
      "Train Epoch: 7 [2560/4138 (62%)]\tLoss: 613.554199\n",
      "Train Epoch: 7 [2880/4138 (69%)]\tLoss: 788.596252\n",
      "Train Epoch: 7 [3200/4138 (77%)]\tLoss: 580.053711\n",
      "Train Epoch: 7 [3520/4138 (85%)]\tLoss: 613.907410\n",
      "Train Epoch: 7 [3840/4138 (92%)]\tLoss: 606.094849\n",
      "Start validation...\n",
      "---val_loader size---  719\n",
      "\n",
      "Validation set: Average loss: 19.8640, average diff: 0.6818554997444153\n",
      "\n",
      "7 th epoch time:  1733.140699148178\n",
      "8 th epoch started...\n",
      "Start training...\n",
      "Train Epoch: 8 [0/4138 (0%)]\tLoss: 645.954956\n",
      "Train Epoch: 8 [320/4138 (8%)]\tLoss: 706.939636\n",
      "Train Epoch: 8 [640/4138 (15%)]\tLoss: 514.293335\n",
      "Train Epoch: 8 [960/4138 (23%)]\tLoss: 803.466370\n",
      "Train Epoch: 8 [1280/4138 (31%)]\tLoss: 642.440002\n",
      "Train Epoch: 8 [1600/4138 (38%)]\tLoss: 735.223877\n",
      "Train Epoch: 8 [1920/4138 (46%)]\tLoss: 630.771301\n",
      "Train Epoch: 8 [2240/4138 (54%)]\tLoss: 668.903503\n",
      "Train Epoch: 8 [2560/4138 (62%)]\tLoss: 754.637329\n",
      "Train Epoch: 8 [2880/4138 (69%)]\tLoss: 789.083557\n",
      "Train Epoch: 8 [3200/4138 (77%)]\tLoss: 726.144897\n",
      "Train Epoch: 8 [3520/4138 (85%)]\tLoss: 767.338135\n",
      "Train Epoch: 8 [3840/4138 (92%)]\tLoss: 571.589600\n",
      "Start validation...\n",
      "---val_loader size---  719\n",
      "\n",
      "Validation set: Average loss: 19.3986, average diff: 0.6732197403907776\n",
      "\n",
      "8 th epoch time:  1670.5542931556702\n",
      "9 th epoch started...\n",
      "Start training...\n",
      "Train Epoch: 9 [0/4138 (0%)]\tLoss: 712.047058\n",
      "Train Epoch: 9 [320/4138 (8%)]\tLoss: 695.493774\n",
      "Train Epoch: 9 [640/4138 (15%)]\tLoss: 649.036255\n",
      "Train Epoch: 9 [960/4138 (23%)]\tLoss: 786.456421\n",
      "Train Epoch: 9 [1280/4138 (31%)]\tLoss: 920.196350\n",
      "Train Epoch: 9 [1600/4138 (38%)]\tLoss: 554.871155\n",
      "Train Epoch: 9 [1920/4138 (46%)]\tLoss: 743.304688\n",
      "Train Epoch: 9 [2240/4138 (54%)]\tLoss: 661.229553\n",
      "Train Epoch: 9 [2560/4138 (62%)]\tLoss: 628.964539\n",
      "Train Epoch: 9 [2880/4138 (69%)]\tLoss: 715.446899\n",
      "Train Epoch: 9 [3200/4138 (77%)]\tLoss: 656.659058\n",
      "Train Epoch: 9 [3520/4138 (85%)]\tLoss: 651.714050\n",
      "Train Epoch: 9 [3840/4138 (92%)]\tLoss: 879.430115\n",
      "Start validation...\n",
      "---val_loader size---  719\n",
      "\n",
      "Validation set: Average loss: 19.4092, average diff: 0.6734500527381897\n",
      "\n",
      "9 th epoch time:  1669.2036316394806\n"
     ]
    }
   ],
   "source": [
    "import numpy as np\n",
    "\n",
    "\n",
    "n_epochs = 10\n",
    "train_losses_all = []\n",
    "val_loss_all = []\n",
    "val_diff_all = []\n",
    "for epoch in range(n_epochs):\n",
    "    print(epoch,'th epoch started...')\n",
    "    epoch_start = time.time()\n",
    "    train_losses = train(model, train_loader, criterion, optimizer, epoch)\n",
    "    train_losses_all.append(train_losses)\n",
    "    val_loss, diff = validate(model, val_loader)\n",
    "    val_loss_all.append(val_loss)\n",
    "    val_diff_all.append(diff)\n",
    "    torch.save(model.state_dict(),\"model_trained_\" + str(epoch) + \".pt\")\n",
    "\n",
    "    train_loss_array = np.array(train_losses_all)\n",
    "    val_loss_array = np.array(val_loss_all)\n",
    "    val_diff_array = np.array(val_diff_all)\n",
    "\n",
    "    np.save(result_dir + 'train_loss_array.npy', train_loss_array)\n",
    "    np.save(result_dir + 'val_loss_array.npy', val_loss_array)\n",
    "    np.save(result_dir + 'val_diff_array.npy', val_diff_array)\n",
    "    \n",
    "    epoch_end = time.time()\n",
    "    epoch_time = epoch_end - epoch_start\n",
    "    print(epoch, 'th epoch time: ', epoch_time)"
   ]
  },
  {
   "cell_type": "code",
   "execution_count": 119,
   "metadata": {},
   "outputs": [
    {
     "name": "stdout",
     "output_type": "stream",
     "text": [
      "Start validation...\n",
      "---val_loader size---  719\n"
     ]
    },
    {
     "name": "stderr",
     "output_type": "stream",
     "text": [
      "/home/dongwenjian/anaconda3/lib/python3.6/site-packages/torchvision/transforms/transforms.py:188: UserWarning: The use of the transforms.Scale transform is deprecated, please use transforms.Resize instead.\n",
      "  \"please use transforms.Resize instead.\")\n",
      "/home/dongwenjian/anaconda3/lib/python3.6/site-packages/torch/nn/_reduction.py:49: UserWarning: size_average and reduce args will be deprecated, please use reduction='mean' instead.\n",
      "  warnings.warn(warning.format(ret))\n"
     ]
    },
    {
     "name": "stdout",
     "output_type": "stream",
     "text": [
      "\n",
      "Validation set: Average loss: 69.3337, average diff: 1.268880009651184\n",
      "\n"
     ]
    }
   ],
   "source": [
    "# Just for test validate function\n",
    "val_loss, diff = validate(model, val_loader)"
   ]
  },
  {
   "cell_type": "code",
   "execution_count": 100,
   "metadata": {},
   "outputs": [],
   "source": [
    "from PIL import Image"
   ]
  },
  {
   "cell_type": "code",
   "execution_count": 226,
   "metadata": {},
   "outputs": [],
   "source": [
    "def predict_based_on_img2vec(model, img_path):\n",
    "    img = Image.open(img_path)\n",
    "    #img = torchvision.transforms.functional.to_tensor(img)\n",
    "    #img = torchvision.transforms.functional.to_pil_image(img)\n",
    "    #img = torchvision.transforms.functional.resize(img, 256)\n",
    "    #five_imgs = torchvision.transforms.functional.five_crop(img, size=224)\n",
    "    #img = five_imgs[4] # Center crop\n",
    "    features = get_features(img)\n",
    "    #print('---aaa---', features.shape)\n",
    "    batch_features = np.reshape(features, (1, features.shape[0]))\n",
    "    #print('---bbb---', batch_features.shape)\n",
    "    with torch.no_grad():\n",
    "        out = model(torch.tensor(batch_features))\n",
    "        #print(out.item())\n",
    "    return out.item()"
   ]
  },
  {
   "cell_type": "code",
   "execution_count": 227,
   "metadata": {},
   "outputs": [
    {
     "data": {
      "image/jpeg": "[encoded data removed]",
      "text/plain": [
       "<IPython.core.display.Image object>"
      ]
     },
     "execution_count": 227,
     "metadata": {},
     "output_type": "execute_result"
    }
   ],
   "source": [
    "from IPython.display import Image as IPyImage\n",
    "img_name = data_root + 'wiki_crop_test/20/23655297_1990-07-01_2010.jpg'\n",
    "IPyImage(filename=img_name)"
   ]
  },
  {
   "cell_type": "code",
   "execution_count": null,
   "metadata": {},
   "outputs": [],
   "source": [
    "\n"
   ]
  },
  {
   "cell_type": "code",
   "execution_count": 228,
   "metadata": {
    "scrolled": true
   },
   "outputs": [
    {
     "name": "stderr",
     "output_type": "stream",
     "text": [
      "/home/dongwenjian/anaconda3/lib/python3.6/site-packages/torchvision/transforms/transforms.py:188: UserWarning: The use of the transforms.Scale transform is deprecated, please use transforms.Resize instead.\n",
      "  \"please use transforms.Resize instead.\")\n"
     ]
    },
    {
     "data": {
      "text/plain": [
       "49.144371032714844"
      ]
     },
     "execution_count": 228,
     "metadata": {},
     "output_type": "execute_result"
    }
   ],
   "source": [
    "predict_based_on_img2vec(model, img_name)"
   ]
  },
  {
   "cell_type": "code",
   "execution_count": null,
   "metadata": {},
   "outputs": [],
   "source": []
  },
  {
   "cell_type": "code",
   "execution_count": 229,
   "metadata": {},
   "outputs": [],
   "source": [
    "def parse_age(image_name):\n",
    "    '''\n",
    "    example: 23300_1962-06-19_2011.jpg\n",
    "    the calculation: age=2011-1962=49\n",
    "    return 49\n",
    "    '''\n",
    "    tokens1 = image_name.split('.')\n",
    "    tokens2 = tokens1[0].split('_')\n",
    "    tokens3 = tokens2[1].split('-')\n",
    "    dob = int(tokens3[0])\n",
    "    photo = int(tokens2[2])\n",
    "    return photo-dob"
   ]
  },
  {
   "cell_type": "code",
   "execution_count": 230,
   "metadata": {},
   "outputs": [],
   "source": [
    "def test(model, test_data_path):\n",
    "    diffs_by_age = {}\n",
    "    folders = os.listdir(test_data_path)\n",
    "    for folder in folders:\n",
    "        images = os.listdir(test_data_path+folder)\n",
    "        print('working on folder ', folder, ', ', len(images), ' images to be tested')\n",
    "        for image in images:\n",
    "            try:\n",
    "                \n",
    "                age_est = predict_based_on_img2vec(model, test_data_path+folder+'/'+image)\n",
    "                age_ref = parse_age(image)\n",
    "                if not age_ref in diffs_by_age:\n",
    "                    diffs_by_age[age_ref] = []\n",
    "                dif = abs(age_est - age_ref)\n",
    "                diffs_by_age[age_ref].append(dif)\n",
    "            except Exception as e:\n",
    "                print('Exception caught on path ', folder+'/'+image)\n",
    "                raise e\n",
    "    return diffs_by_age"
   ]
  },
  {
   "cell_type": "code",
   "execution_count": 231,
   "metadata": {},
   "outputs": [
    {
     "name": "stdout",
     "output_type": "stream",
     "text": [
      "working on folder  69 ,  14  images to be tested\n"
     ]
    },
    {
     "name": "stderr",
     "output_type": "stream",
     "text": [
      "/home/dongwenjian/anaconda3/lib/python3.6/site-packages/torchvision/transforms/transforms.py:188: UserWarning: The use of the transforms.Scale transform is deprecated, please use transforms.Resize instead.\n",
      "  \"please use transforms.Resize instead.\")\n"
     ]
    },
    {
     "name": "stdout",
     "output_type": "stream",
     "text": [
      "working on folder  27 ,  89  images to be tested\n",
      "working on folder  41 ,  46  images to be tested\n",
      "working on folder  62 ,  19  images to be tested\n",
      "working on folder  50 ,  18  images to be tested\n",
      "working on folder  73 ,  6  images to be tested\n",
      "working on folder  71 ,  12  images to be tested\n",
      "working on folder  74 ,  3  images to be tested\n",
      "working on folder  47 ,  29  images to be tested\n",
      "working on folder  39 ,  27  images to be tested\n",
      "working on folder  91 ,  5  images to be tested\n",
      "working on folder  29 ,  85  images to be tested\n",
      "working on folder  100 ,  0  images to be tested\n",
      "working on folder  70 ,  12  images to be tested\n",
      "working on folder  66 ,  16  images to be tested\n",
      "working on folder  20 ,  63  images to be tested\n",
      "working on folder  7 ,  0  images to be tested\n",
      "working on folder  81 ,  4  images to be tested\n",
      "working on folder  54 ,  21  images to be tested\n",
      "working on folder  48 ,  17  images to be tested\n",
      "working on folder  40 ,  33  images to be tested\n",
      "working on folder  14 ,  4  images to be tested\n",
      "working on folder  25 ,  104  images to be tested\n",
      "working on folder  58 ,  25  images to be tested\n",
      "working on folder  30 ,  78  images to be tested\n",
      "working on folder  9 ,  1  images to be tested\n",
      "working on folder  79 ,  6  images to be tested\n",
      "working on folder  35 ,  60  images to be tested\n",
      "working on folder  15 ,  11  images to be tested\n",
      "working on folder  76 ,  14  images to be tested\n",
      "working on folder  28 ,  97  images to be tested\n",
      "working on folder  6 ,  0  images to be tested\n",
      "working on folder  17 ,  12  images to be tested\n",
      "working on folder  88 ,  5  images to be tested\n",
      "working on folder  86 ,  4  images to be tested\n",
      "working on folder  93 ,  2  images to be tested\n",
      "working on folder  8 ,  1  images to be tested\n",
      "working on folder  43 ,  31  images to be tested\n",
      "working on folder  32 ,  60  images to be tested\n",
      "working on folder  96 ,  1  images to be tested\n",
      "working on folder  31 ,  80  images to be tested\n",
      "working on folder  64 ,  14  images to be tested\n",
      "working on folder  53 ,  21  images to be tested\n",
      "working on folder  33 ,  52  images to be tested\n",
      "working on folder  63 ,  29  images to be tested\n",
      "working on folder  95 ,  2  images to be tested\n",
      "working on folder  82 ,  8  images to be tested\n",
      "working on folder  61 ,  17  images to be tested\n",
      "working on folder  18 ,  37  images to be tested\n",
      "working on folder  89 ,  3  images to be tested\n",
      "working on folder  94 ,  1  images to be tested\n",
      "working on folder  99 ,  0  images to be tested\n",
      "working on folder  22 ,  93  images to be tested\n",
      "working on folder  12 ,  0  images to be tested\n",
      "working on folder  98 ,  0  images to be tested\n",
      "working on folder  60 ,  24  images to be tested\n",
      "working on folder  44 ,  40  images to be tested\n",
      "working on folder  56 ,  20  images to be tested\n",
      "working on folder  21 ,  69  images to be tested\n",
      "working on folder  92 ,  1  images to be tested\n",
      "working on folder  23 ,  103  images to be tested\n",
      "working on folder  24 ,  110  images to be tested\n",
      "working on folder  36 ,  52  images to be tested\n",
      "working on folder  68 ,  14  images to be tested\n",
      "working on folder  34 ,  56  images to be tested\n",
      "working on folder  52 ,  26  images to be tested\n",
      "working on folder  13 ,  1  images to be tested\n",
      "working on folder  55 ,  23  images to be tested\n",
      "working on folder  0 ,  0  images to be tested\n",
      "working on folder  80 ,  5  images to be tested\n",
      "working on folder  11 ,  0  images to be tested\n",
      "working on folder  37 ,  43  images to be tested\n",
      "working on folder  90 ,  0  images to be tested\n",
      "working on folder  2 ,  0  images to be tested\n",
      "working on folder  57 ,  23  images to be tested\n",
      "working on folder  67 ,  18  images to be tested\n",
      "working on folder  72 ,  10  images to be tested\n",
      "working on folder  19 ,  42  images to be tested\n",
      "working on folder  59 ,  26  images to be tested\n",
      "working on folder  78 ,  8  images to be tested\n",
      "working on folder  97 ,  0  images to be tested\n",
      "working on folder  49 ,  44  images to be tested\n",
      "working on folder  10 ,  0  images to be tested\n",
      "working on folder  4 ,  0  images to be tested\n",
      "working on folder  16 ,  4  images to be tested\n",
      "working on folder  26 ,  129  images to be tested\n",
      "working on folder  87 ,  1  images to be tested\n",
      "working on folder  51 ,  25  images to be tested\n",
      "working on folder  65 ,  16  images to be tested\n",
      "working on folder  5 ,  0  images to be tested\n",
      "working on folder  38 ,  39  images to be tested\n",
      "working on folder  75 ,  7  images to be tested\n",
      "working on folder  1 ,  1  images to be tested\n",
      "working on folder  83 ,  6  images to be tested\n",
      "working on folder  45 ,  37  images to be tested\n",
      "working on folder  3 ,  0  images to be tested\n",
      "working on folder  85 ,  2  images to be tested\n",
      "working on folder  46 ,  39  images to be tested\n",
      "working on folder  77 ,  5  images to be tested\n",
      "working on folder  42 ,  39  images to be tested\n",
      "working on folder  84 ,  2  images to be tested\n"
     ]
    }
   ],
   "source": [
    "diffs_by_age = test(model, '/home/dongwenjian/Jupyter/DeepLearningWithPyTorch/projet/data2/wiki_crop_test/')"
   ]
  },
  {
   "cell_type": "code",
   "execution_count": 234,
   "metadata": {},
   "outputs": [
    {
     "data": {
      "text/plain": [
       "Text(0.5, 1.0, 'model tested on our test data')"
      ]
     },
     "execution_count": 234,
     "metadata": {},
     "output_type": "execute_result"
    },
    {
     "data": {
      "image/png": "[encoded data removed]",
      "text/plain": [
       "<Figure size 432x288 with 1 Axes>"
      ]
     },
     "metadata": {},
     "output_type": "display_data"
    }
   ],
   "source": [
    "import matplotlib.pyplot as plt\n",
    "\n",
    "n = 101\n",
    "diffs = np.zeros((n,))\n",
    "for key in diffs_by_age:\n",
    "    diffs[key] = np.mean(diffs_by_age[key])\n",
    "\n",
    "plt.plot(diffs)\n",
    "plt.xlabel('reference age')\n",
    "plt.ylabel('difference')\n",
    "plt.title('model tested on our test data')"
   ]
  },
  {
   "cell_type": "code",
   "execution_count": null,
   "metadata": {},
   "outputs": [],
   "source": []
  },
  {
   "cell_type": "code",
   "execution_count": null,
   "metadata": {},
   "outputs": [],
   "source": []
  },
  {
   "cell_type": "code",
   "execution_count": 45,
   "metadata": {},
   "outputs": [],
   "source": [
    "a = torch.tensor([1,2,3])\n",
    "b = torch.tensor([1.1, 2.5, 3.3])"
   ]
  },
  {
   "cell_type": "code",
   "execution_count": 46,
   "metadata": {},
   "outputs": [
    {
     "data": {
      "text/plain": [
       "tensor(0.3000)"
      ]
     },
     "execution_count": 46,
     "metadata": {},
     "output_type": "execute_result"
    }
   ],
   "source": [
    "nn.functional.l1_loss(a.float() ,b)"
   ]
  },
  {
   "cell_type": "code",
   "execution_count": 211,
   "metadata": {},
   "outputs": [],
   "source": [
    "img_name = '/home/dongwenjian/Jupyter/DeepLearningWithPyTorch/projet/data2/wiki_crop_test/27/3265699_1952-01-23_1979.jpg'\n",
    "pil_image = Image.open(img_name)\n",
    "channels = pil_image.split()\n"
   ]
  },
  {
   "cell_type": "code",
   "execution_count": 212,
   "metadata": {},
   "outputs": [
    {
     "data": {
      "text/plain": [
       "1"
      ]
     },
     "execution_count": 212,
     "metadata": {},
     "output_type": "execute_result"
    }
   ],
   "source": [
    "len(channels)"
   ]
  },
  {
   "cell_type": "code",
   "execution_count": 221,
   "metadata": {},
   "outputs": [
    {
     "data": {
      "text/plain": [
       "(<PIL.Image.Image image mode=L size=398x397 at 0x7F231711CFD0>,)"
      ]
     },
     "execution_count": 221,
     "metadata": {},
     "output_type": "execute_result"
    }
   ],
   "source": [
    "channels"
   ]
  },
  {
   "cell_type": "code",
   "execution_count": 213,
   "metadata": {},
   "outputs": [],
   "source": [
    "if len(channels) == 1:\n",
    "    new_img = Image.merge('RGB', (channels[0], channels[0], channels[0]))"
   ]
  },
  {
   "cell_type": "code",
   "execution_count": 216,
   "metadata": {},
   "outputs": [
    {
     "data": {
      "text/plain": [
       "(<PIL.Image.Image image mode=L size=398x397 at 0x7F2316F126D8>,\n",
       " <PIL.Image.Image image mode=L size=398x397 at 0x7F2316F12B70>,\n",
       " <PIL.Image.Image image mode=L size=398x397 at 0x7F2316F121D0>)"
      ]
     },
     "execution_count": 216,
     "metadata": {},
     "output_type": "execute_result"
    }
   ],
   "source": [
    "new_channels = new_img.split()\n",
    "new_channels"
   ]
  },
  {
   "cell_type": "code",
   "execution_count": 222,
   "metadata": {},
   "outputs": [],
   "source": [
    "a = (1,)"
   ]
  },
  {
   "cell_type": "code",
   "execution_count": 223,
   "metadata": {},
   "outputs": [
    {
     "data": {
      "text/plain": [
       "1"
      ]
     },
     "execution_count": 223,
     "metadata": {},
     "output_type": "execute_result"
    }
   ],
   "source": [
    "len(a)"
   ]
  },
  {
   "cell_type": "code",
   "execution_count": null,
   "metadata": {},
   "outputs": [],
   "source": []
  }
 ],
 "metadata": {
  "kernelspec": {
   "display_name": "Python 3",
   "language": "python",
   "name": "python3"
  },
  "language_info": {
   "codemirror_mode": {
    "name": "ipython",
    "version": 3
   },
   "file_extension": ".py",
   "mimetype": "text/x-python",
   "name": "python",
   "nbconvert_exporter": "python",
   "pygments_lexer": "ipython3",
   "version": "3.6.8"
  }
 },
 "nbformat": 4,
 "nbformat_minor": 2
}
