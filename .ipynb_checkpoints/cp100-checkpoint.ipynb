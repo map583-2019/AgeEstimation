{
 "cells": [
  {
   "cell_type": "markdown",
   "metadata": {},
   "source": [
    "### This file to generate a smaller dataset in order to debug the code more quickly"
   ]
  },
  {
   "cell_type": "code",
   "execution_count": 2,
   "metadata": {},
   "outputs": [],
   "source": [
    "import os\n",
    "from shutil import copyfile\n",
    "from PIL import Image"
   ]
  },
  {
   "cell_type": "code",
   "execution_count": 26,
   "metadata": {},
   "outputs": [],
   "source": [
    "path_source = './data2/'\n",
    "path_target = './data5/'"
   ]
  },
  {
   "cell_type": "code",
   "execution_count": 27,
   "metadata": {},
   "outputs": [],
   "source": [
    "for subdir in ['wiki_crop_train', 'wiki_crop_val', 'wiki_crop_test']:\n",
    "    os.mkdir(path_target+subdir)\n",
    "    for i in range(101):\n",
    "        target_sub_path = path_target+subdir+'/'\n",
    "        source_sub_path = path_source+subdir+'/'\n",
    "        counter = 0\n",
    "        files = os.listdir(source_sub_path+str(i))\n",
    "        os.mkdir(target_sub_path + str(i))\n",
    "        for j in range(len(files)):\n",
    "            copyfile(source_sub_path + str(i) + '/' + files[j], target_sub_path + str(i) + '/' + files[j])\n",
    "            if subdir == 'wiki_crop_train':\n",
    "                critic = 49\n",
    "            else:\n",
    "                critic = 9\n",
    "            if j >= critic:\n",
    "                break\n",
    "\n",
    "    "
   ]
  },
  {
   "cell_type": "code",
   "execution_count": 22,
   "metadata": {},
   "outputs": [],
   "source": [
    "\n",
    "\n"
   ]
  },
  {
   "cell_type": "code",
   "execution_count": null,
   "metadata": {},
   "outputs": [],
   "source": []
  }
 ],
 "metadata": {
  "kernelspec": {
   "display_name": "Python 3",
   "language": "python",
   "name": "python3"
  },
  "language_info": {
   "codemirror_mode": {
    "name": "ipython",
    "version": 3
   },
   "file_extension": ".py",
   "mimetype": "text/x-python",
   "name": "python",
   "nbconvert_exporter": "python",
   "pygments_lexer": "ipython3",
   "version": "3.6.8"
  }
 },
 "nbformat": 4,
 "nbformat_minor": 2
}
